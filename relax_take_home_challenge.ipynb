{
 "cells": [
  {
   "cell_type": "markdown",
   "metadata": {},
   "source": [
    "# Relax Inc. Take-Home Challenge"
   ]
  },
  {
   "cell_type": "markdown",
   "metadata": {},
   "source": [
    "## Introduction"
   ]
  },
  {
   "cell_type": "markdown",
   "metadata": {},
   "source": [
    "### Library imports"
   ]
  },
  {
   "cell_type": "code",
   "execution_count": 68,
   "metadata": {},
   "outputs": [],
   "source": [
    "# General imports\n",
    "import pandas as pd\n",
    "import numpy as np\n",
    "import matplotlib.pyplot as plt\n",
    "import datetime\n",
    "from datetime import timedelta\n",
    "\n",
    "# Sklearn imports\n",
    "from sklearn.model_selection import train_test_split\n",
    "from sklearn.metrics import classification_report, confusion_matrix\n",
    "from sklearn.preprocessing import LabelEncoder\n",
    "from sklearn.ensemble import RandomForestClassifier"
   ]
  },
  {
   "cell_type": "markdown",
   "metadata": {},
   "source": [
    "### Helper function(s)"
   ]
  },
  {
   "cell_type": "code",
   "execution_count": 69,
   "metadata": {},
   "outputs": [],
   "source": [
    "# Printed barrier function\n",
    "def barrier():\n",
    "    print(\"\\n <<<\",\"-\"*50,\">>> \\n\")"
   ]
  },
  {
   "cell_type": "markdown",
   "metadata": {},
   "source": [
    "### Data import"
   ]
  },
  {
   "cell_type": "code",
   "execution_count": 70,
   "metadata": {},
   "outputs": [],
   "source": [
    "users = pd.read_csv(\"takehome_users.csv\", encoding=\"latin-1\", parse_dates=True)\n",
    "engage = pd.read_csv(\"takehome_user_engagement.csv\", parse_dates=True)"
   ]
  },
  {
   "cell_type": "code",
   "execution_count": 71,
   "metadata": {},
   "outputs": [
    {
     "data": {
      "text/html": [
       "<div>\n",
       "<style scoped>\n",
       "    .dataframe tbody tr th:only-of-type {\n",
       "        vertical-align: middle;\n",
       "    }\n",
       "\n",
       "    .dataframe tbody tr th {\n",
       "        vertical-align: top;\n",
       "    }\n",
       "\n",
       "    .dataframe thead th {\n",
       "        text-align: right;\n",
       "    }\n",
       "</style>\n",
       "<table border=\"1\" class=\"dataframe\">\n",
       "  <thead>\n",
       "    <tr style=\"text-align: right;\">\n",
       "      <th></th>\n",
       "      <th>0</th>\n",
       "      <th>1</th>\n",
       "      <th>2</th>\n",
       "      <th>3</th>\n",
       "      <th>4</th>\n",
       "    </tr>\n",
       "  </thead>\n",
       "  <tbody>\n",
       "    <tr>\n",
       "      <th>object_id</th>\n",
       "      <td>1</td>\n",
       "      <td>2</td>\n",
       "      <td>3</td>\n",
       "      <td>4</td>\n",
       "      <td>5</td>\n",
       "    </tr>\n",
       "    <tr>\n",
       "      <th>creation_time</th>\n",
       "      <td>2014-04-22 03:53:30</td>\n",
       "      <td>2013-11-15 03:45:04</td>\n",
       "      <td>2013-03-19 23:14:52</td>\n",
       "      <td>2013-05-21 08:09:28</td>\n",
       "      <td>2013-01-17 10:14:20</td>\n",
       "    </tr>\n",
       "    <tr>\n",
       "      <th>name</th>\n",
       "      <td>Clausen August</td>\n",
       "      <td>Poole Matthew</td>\n",
       "      <td>Bottrill Mitchell</td>\n",
       "      <td>Clausen Nicklas</td>\n",
       "      <td>Raw Grace</td>\n",
       "    </tr>\n",
       "    <tr>\n",
       "      <th>email</th>\n",
       "      <td>AugustCClausen@yahoo.com</td>\n",
       "      <td>MatthewPoole@gustr.com</td>\n",
       "      <td>MitchellBottrill@gustr.com</td>\n",
       "      <td>NicklasSClausen@yahoo.com</td>\n",
       "      <td>GraceRaw@yahoo.com</td>\n",
       "    </tr>\n",
       "    <tr>\n",
       "      <th>creation_source</th>\n",
       "      <td>GUEST_INVITE</td>\n",
       "      <td>ORG_INVITE</td>\n",
       "      <td>ORG_INVITE</td>\n",
       "      <td>GUEST_INVITE</td>\n",
       "      <td>GUEST_INVITE</td>\n",
       "    </tr>\n",
       "    <tr>\n",
       "      <th>last_session_creation_time</th>\n",
       "      <td>1398138810.0</td>\n",
       "      <td>1396237504.0</td>\n",
       "      <td>1363734892.0</td>\n",
       "      <td>1369210168.0</td>\n",
       "      <td>1358849660.0</td>\n",
       "    </tr>\n",
       "    <tr>\n",
       "      <th>opted_in_to_mailing_list</th>\n",
       "      <td>1</td>\n",
       "      <td>0</td>\n",
       "      <td>0</td>\n",
       "      <td>0</td>\n",
       "      <td>0</td>\n",
       "    </tr>\n",
       "    <tr>\n",
       "      <th>enabled_for_marketing_drip</th>\n",
       "      <td>0</td>\n",
       "      <td>0</td>\n",
       "      <td>0</td>\n",
       "      <td>0</td>\n",
       "      <td>0</td>\n",
       "    </tr>\n",
       "    <tr>\n",
       "      <th>org_id</th>\n",
       "      <td>11</td>\n",
       "      <td>1</td>\n",
       "      <td>94</td>\n",
       "      <td>1</td>\n",
       "      <td>193</td>\n",
       "    </tr>\n",
       "    <tr>\n",
       "      <th>invited_by_user_id</th>\n",
       "      <td>10803.0</td>\n",
       "      <td>316.0</td>\n",
       "      <td>1525.0</td>\n",
       "      <td>5151.0</td>\n",
       "      <td>5240.0</td>\n",
       "    </tr>\n",
       "  </tbody>\n",
       "</table>\n",
       "</div>"
      ],
      "text/plain": [
       "                                                   0                       1  \\\n",
       "object_id                                          1                       2   \n",
       "creation_time                    2014-04-22 03:53:30     2013-11-15 03:45:04   \n",
       "name                                  Clausen August           Poole Matthew   \n",
       "email                       AugustCClausen@yahoo.com  MatthewPoole@gustr.com   \n",
       "creation_source                         GUEST_INVITE              ORG_INVITE   \n",
       "last_session_creation_time              1398138810.0            1396237504.0   \n",
       "opted_in_to_mailing_list                           1                       0   \n",
       "enabled_for_marketing_drip                         0                       0   \n",
       "org_id                                            11                       1   \n",
       "invited_by_user_id                           10803.0                   316.0   \n",
       "\n",
       "                                                     2  \\\n",
       "object_id                                            3   \n",
       "creation_time                      2013-03-19 23:14:52   \n",
       "name                                 Bottrill Mitchell   \n",
       "email                       MitchellBottrill@gustr.com   \n",
       "creation_source                             ORG_INVITE   \n",
       "last_session_creation_time                1363734892.0   \n",
       "opted_in_to_mailing_list                             0   \n",
       "enabled_for_marketing_drip                           0   \n",
       "org_id                                              94   \n",
       "invited_by_user_id                              1525.0   \n",
       "\n",
       "                                                    3                    4  \n",
       "object_id                                           4                    5  \n",
       "creation_time                     2013-05-21 08:09:28  2013-01-17 10:14:20  \n",
       "name                                  Clausen Nicklas            Raw Grace  \n",
       "email                       NicklasSClausen@yahoo.com   GraceRaw@yahoo.com  \n",
       "creation_source                          GUEST_INVITE         GUEST_INVITE  \n",
       "last_session_creation_time               1369210168.0         1358849660.0  \n",
       "opted_in_to_mailing_list                            0                    0  \n",
       "enabled_for_marketing_drip                          0                    0  \n",
       "org_id                                              1                  193  \n",
       "invited_by_user_id                             5151.0               5240.0  "
      ]
     },
     "execution_count": 71,
     "metadata": {},
     "output_type": "execute_result"
    }
   ],
   "source": [
    "users.head().T"
   ]
  },
  {
   "cell_type": "code",
   "execution_count": 72,
   "metadata": {},
   "outputs": [
    {
     "data": {
      "text/html": [
       "<div>\n",
       "<style scoped>\n",
       "    .dataframe tbody tr th:only-of-type {\n",
       "        vertical-align: middle;\n",
       "    }\n",
       "\n",
       "    .dataframe tbody tr th {\n",
       "        vertical-align: top;\n",
       "    }\n",
       "\n",
       "    .dataframe thead th {\n",
       "        text-align: right;\n",
       "    }\n",
       "</style>\n",
       "<table border=\"1\" class=\"dataframe\">\n",
       "  <thead>\n",
       "    <tr style=\"text-align: right;\">\n",
       "      <th></th>\n",
       "      <th>time_stamp</th>\n",
       "      <th>user_id</th>\n",
       "      <th>visited</th>\n",
       "    </tr>\n",
       "  </thead>\n",
       "  <tbody>\n",
       "    <tr>\n",
       "      <th>0</th>\n",
       "      <td>2014-04-22 03:53:30</td>\n",
       "      <td>1</td>\n",
       "      <td>1</td>\n",
       "    </tr>\n",
       "    <tr>\n",
       "      <th>1</th>\n",
       "      <td>2013-11-15 03:45:04</td>\n",
       "      <td>2</td>\n",
       "      <td>1</td>\n",
       "    </tr>\n",
       "    <tr>\n",
       "      <th>2</th>\n",
       "      <td>2013-11-29 03:45:04</td>\n",
       "      <td>2</td>\n",
       "      <td>1</td>\n",
       "    </tr>\n",
       "    <tr>\n",
       "      <th>3</th>\n",
       "      <td>2013-12-09 03:45:04</td>\n",
       "      <td>2</td>\n",
       "      <td>1</td>\n",
       "    </tr>\n",
       "    <tr>\n",
       "      <th>4</th>\n",
       "      <td>2013-12-25 03:45:04</td>\n",
       "      <td>2</td>\n",
       "      <td>1</td>\n",
       "    </tr>\n",
       "  </tbody>\n",
       "</table>\n",
       "</div>"
      ],
      "text/plain": [
       "            time_stamp  user_id  visited\n",
       "0  2014-04-22 03:53:30        1        1\n",
       "1  2013-11-15 03:45:04        2        1\n",
       "2  2013-11-29 03:45:04        2        1\n",
       "3  2013-12-09 03:45:04        2        1\n",
       "4  2013-12-25 03:45:04        2        1"
      ]
     },
     "execution_count": 72,
     "metadata": {},
     "output_type": "execute_result"
    }
   ],
   "source": [
    "engage.head()"
   ]
  },
  {
   "cell_type": "markdown",
   "metadata": {},
   "source": [
    "## Adopted users"
   ]
  },
  {
   "cell_type": "code",
   "execution_count": 73,
   "metadata": {},
   "outputs": [],
   "source": [
    "# Set the time_stamp to datetime and make it the index\n",
    "engage.time_stamp = pd.to_datetime(engage.time_stamp)\n",
    "engage = engage.set_index(\"time_stamp\", drop= True)"
   ]
  },
  {
   "cell_type": "code",
   "execution_count": 74,
   "metadata": {},
   "outputs": [],
   "source": [
    "# Function to check adoption\n",
    "def has_adopted(x):\n",
    "    df_temp = engage.loc[engage[\"user_id\"] == x]\n",
    "    df_temp = df_temp.resample(\"D\").mean().dropna()\n",
    "    adopted = 0\n",
    "    \n",
    "    for i in range(len(df_temp)-2):\n",
    "        if df_temp.index[i + 2] - df_temp.index[i] <= timedelta(days=7):\n",
    "            adopted = 1\n",
    "            break\n",
    "        else:\n",
    "            adopted = 0\n",
    "    return adopted"
   ]
  },
  {
   "cell_type": "code",
   "execution_count": 75,
   "metadata": {},
   "outputs": [],
   "source": [
    "# Apply function\n",
    "users[\"adopted_user\"] = users[\"object_id\"].apply(has_adopted)"
   ]
  },
  {
   "cell_type": "code",
   "execution_count": 76,
   "metadata": {},
   "outputs": [
    {
     "name": "stdout",
     "output_type": "stream",
     "text": [
      "1656\n",
      "0.138\n"
     ]
    }
   ],
   "source": [
    "print(sum(users[\"adopted_user\"]))\n",
    "print(sum(users.adopted_user)/len(users.adopted_user))"
   ]
  },
  {
   "cell_type": "markdown",
   "metadata": {},
   "source": [
    "**Inference:**\n",
    "- There are 1656 active users in the dataset\n",
    "- This constitutes about 14% of the total"
   ]
  },
  {
   "cell_type": "markdown",
   "metadata": {},
   "source": [
    "## Data Wrangling"
   ]
  },
  {
   "cell_type": "code",
   "execution_count": 77,
   "metadata": {
    "scrolled": true
   },
   "outputs": [],
   "source": [
    "# last_session_creation_time to datetime\n",
    "f = lambda data: datetime.datetime.fromtimestamp(int(data)).strftime(\"%Y-%m-%d %H:%M:%S\")\n",
    "users[\"last_session_creation_time\"] = users[\"last_session_creation_time\"].map(f, na_action=\"ignore\")\n",
    "\n",
    "# Creation_time to datetime\n",
    "users[\"creation_time\"] = pd.to_datetime(users[\"creation_time\"])"
   ]
  },
  {
   "cell_type": "markdown",
   "metadata": {},
   "source": [
    "- `creation_time` minus `last_session_creation_time` gives us feature `usage_length` that basically indicates how long a user has been active. "
   ]
  },
  {
   "cell_type": "code",
   "execution_count": 78,
   "metadata": {},
   "outputs": [],
   "source": [
    "# Convert to datettime\n",
    "users[\"last_session_creation_time\"] = pd.to_datetime(users[\"last_session_creation_time\"])\n",
    "\n",
    "# Subtract\n",
    "users[\"usage_length\"] = users[\"last_session_creation_time\"] - users[\"creation_time\"]\n",
    "\n",
    "# Change to seconds\n",
    "users[\"usage_length\"] = [i.total_seconds() for i in users[\"usage_length\"]]"
   ]
  },
  {
   "cell_type": "code",
   "execution_count": 79,
   "metadata": {},
   "outputs": [],
   "source": [
    "# Email provider as a feature\n",
    "users[\"email_provider\"] = [i.split(\"@\")[1] for i in users.email]\n",
    "top = users.email_provider.value_counts().index[:6]\n",
    "\n",
    "# Set anything not in the top 5 to other\n",
    "users[\"email_provider\"] = [i if i in top else \"other\" for i in users.email_provider]"
   ]
  },
  {
   "cell_type": "code",
   "execution_count": 80,
   "metadata": {},
   "outputs": [],
   "source": [
    "# Impute empty values in users and repeat the above process\n",
    "users.invited_by_user_id = users.invited_by_user_id.fillna(0)"
   ]
  },
  {
   "cell_type": "markdown",
   "metadata": {},
   "source": [
    "- Drop unnecessary features: `object_id`, `name`, `last_session_creation_time`, `email`, `creation_time`"
   ]
  },
  {
   "cell_type": "code",
   "execution_count": 81,
   "metadata": {},
   "outputs": [],
   "source": [
    "feat_df = users.iloc[:, 4:]\n",
    "feat_df = feat_df.drop(\"last_session_creation_time\", axis=1)\n",
    "feat_df[\"usage_length\"] = feat_df[\"usage_length\"].fillna(0)"
   ]
  },
  {
   "cell_type": "code",
   "execution_count": 82,
   "metadata": {},
   "outputs": [],
   "source": [
    "# Generate label features from categorical features\n",
    "gle = LabelEncoder()\n",
    "creation_labels = gle.fit_transform(users[\"creation_source\"])\n",
    "feat_df.creation_source = creation_labels\n",
    "\n",
    "org_id_labels = gle.fit_transform(users[\"org_id\"])\n",
    "feat_df.org_id = org_id_labels\n",
    "\n",
    "invited_labels = gle.fit_transform(users[\"invited_by_user_id\"])\n",
    "feat_df.org_id = invited_labels\n",
    "\n",
    "email_labels = gle.fit_transform(users[\"email_provider\"])\n",
    "feat_df.email_provider = email_labels"
   ]
  },
  {
   "cell_type": "code",
   "execution_count": 83,
   "metadata": {},
   "outputs": [
    {
     "data": {
      "text/html": [
       "<div>\n",
       "<style scoped>\n",
       "    .dataframe tbody tr th:only-of-type {\n",
       "        vertical-align: middle;\n",
       "    }\n",
       "\n",
       "    .dataframe tbody tr th {\n",
       "        vertical-align: top;\n",
       "    }\n",
       "\n",
       "    .dataframe thead th {\n",
       "        text-align: right;\n",
       "    }\n",
       "</style>\n",
       "<table border=\"1\" class=\"dataframe\">\n",
       "  <thead>\n",
       "    <tr style=\"text-align: right;\">\n",
       "      <th></th>\n",
       "      <th>creation_source</th>\n",
       "      <th>opted_in_to_mailing_list</th>\n",
       "      <th>enabled_for_marketing_drip</th>\n",
       "      <th>org_id</th>\n",
       "      <th>invited_by_user_id</th>\n",
       "      <th>adopted_user</th>\n",
       "      <th>usage_length</th>\n",
       "      <th>email_provider</th>\n",
       "    </tr>\n",
       "  </thead>\n",
       "  <tbody>\n",
       "    <tr>\n",
       "      <th>0</th>\n",
       "      <td>0</td>\n",
       "      <td>1</td>\n",
       "      <td>0</td>\n",
       "      <td>2325</td>\n",
       "      <td>10803.0</td>\n",
       "      <td>0</td>\n",
       "      <td>-14400.0</td>\n",
       "      <td>6</td>\n",
       "    </tr>\n",
       "    <tr>\n",
       "      <th>1</th>\n",
       "      <td>1</td>\n",
       "      <td>0</td>\n",
       "      <td>0</td>\n",
       "      <td>56</td>\n",
       "      <td>316.0</td>\n",
       "      <td>1</td>\n",
       "      <td>11736000.0</td>\n",
       "      <td>2</td>\n",
       "    </tr>\n",
       "    <tr>\n",
       "      <th>2</th>\n",
       "      <td>1</td>\n",
       "      <td>0</td>\n",
       "      <td>0</td>\n",
       "      <td>298</td>\n",
       "      <td>1525.0</td>\n",
       "      <td>0</td>\n",
       "      <td>-14400.0</td>\n",
       "      <td>2</td>\n",
       "    </tr>\n",
       "    <tr>\n",
       "      <th>3</th>\n",
       "      <td>0</td>\n",
       "      <td>0</td>\n",
       "      <td>0</td>\n",
       "      <td>1104</td>\n",
       "      <td>5151.0</td>\n",
       "      <td>0</td>\n",
       "      <td>72000.0</td>\n",
       "      <td>6</td>\n",
       "    </tr>\n",
       "    <tr>\n",
       "      <th>4</th>\n",
       "      <td>0</td>\n",
       "      <td>0</td>\n",
       "      <td>0</td>\n",
       "      <td>1127</td>\n",
       "      <td>5240.0</td>\n",
       "      <td>0</td>\n",
       "      <td>414000.0</td>\n",
       "      <td>6</td>\n",
       "    </tr>\n",
       "  </tbody>\n",
       "</table>\n",
       "</div>"
      ],
      "text/plain": [
       "   creation_source  opted_in_to_mailing_list  enabled_for_marketing_drip  \\\n",
       "0                0                         1                           0   \n",
       "1                1                         0                           0   \n",
       "2                1                         0                           0   \n",
       "3                0                         0                           0   \n",
       "4                0                         0                           0   \n",
       "\n",
       "   org_id  invited_by_user_id  adopted_user  usage_length  email_provider  \n",
       "0    2325             10803.0             0      -14400.0               6  \n",
       "1      56               316.0             1    11736000.0               2  \n",
       "2     298              1525.0             0      -14400.0               2  \n",
       "3    1104              5151.0             0       72000.0               6  \n",
       "4    1127              5240.0             0      414000.0               6  "
      ]
     },
     "execution_count": 83,
     "metadata": {},
     "output_type": "execute_result"
    }
   ],
   "source": [
    "feat_df.head()"
   ]
  },
  {
   "cell_type": "markdown",
   "metadata": {},
   "source": [
    "## Analysis"
   ]
  },
  {
   "cell_type": "markdown",
   "metadata": {},
   "source": [
    "- `Kneighbors` and `RandomForestClassifier` are both good choices for this data set.\n",
    "    - This is appropriate as there is a small number of features and rows/records\n",
    "- However, we have a mix of categorical and numerical data so `RandomForestClassifier` will be easiest to implement."
   ]
  },
  {
   "cell_type": "code",
   "execution_count": 84,
   "metadata": {},
   "outputs": [],
   "source": [
    "# Seperate out the labels then split data\n",
    "data = feat_df.drop(\"adopted_user\", axis=1)\n",
    "labels = feat_df.adopted_user\n",
    "X_train, y_train, X_test, y_test = train_test_split(data, labels, test_size=0.2, random_state=123)"
   ]
  },
  {
   "cell_type": "code",
   "execution_count": 85,
   "metadata": {},
   "outputs": [
    {
     "data": {
      "text/plain": [
       "0.97125"
      ]
     },
     "execution_count": 85,
     "metadata": {},
     "output_type": "execute_result"
    }
   ],
   "source": [
    "# Classifier\n",
    "rf = RandomForestClassifier(class_weight=\"balanced_subsample\")\n",
    "rf.fit(X_train, X_test)\n",
    "rf.score(y_train, y_test)"
   ]
  },
  {
   "cell_type": "code",
   "execution_count": 86,
   "metadata": {},
   "outputs": [
    {
     "name": "stdout",
     "output_type": "stream",
     "text": [
      "Classification Report:\n",
      "              precision    recall  f1-score   support\n",
      "\n",
      "           0       0.98      0.98      0.98      2041\n",
      "           1       0.91      0.90      0.90       359\n",
      "\n",
      "    accuracy                           0.97      2400\n",
      "   macro avg       0.95      0.94      0.94      2400\n",
      "weighted avg       0.97      0.97      0.97      2400\n",
      "\n",
      "\n",
      " <<< -------------------------------------------------- >>> \n",
      "\n",
      "Confusion matrix:\n",
      "[[2009   32]\n",
      " [  37  322]]\n",
      "[[2009   32]\n",
      " [  37  322]]\n"
     ]
    }
   ],
   "source": [
    "# Classification report and Confusion matrix\n",
    "y_pred = rf.predict(y_train)\n",
    "cr = classification_report(y_test, y_pred)\n",
    "print(\"Classification Report:\", cr, sep=\"\\n\", end=\"\\n\")\n",
    "\n",
    "barrier()\n",
    "\n",
    "cm = confusion_matrix(y_test,y_pred)\n",
    "print(\"Confusion matrix:\", cm, sep=\"\\n\", end=\"\\n\")\n",
    "print(cm)"
   ]
  },
  {
   "cell_type": "markdown",
   "metadata": {},
   "source": [
    "**Note:**\n",
    "- The results give confidence that the classifier is not overfiting"
   ]
  },
  {
   "cell_type": "markdown",
   "metadata": {},
   "source": [
    "## Feature Importance"
   ]
  },
  {
   "cell_type": "code",
   "execution_count": 87,
   "metadata": {},
   "outputs": [
    {
     "data": {
      "text/plain": [
       "usage_length                  0.920200\n",
       "invited_by_user_id            0.023860\n",
       "org_id                        0.023646\n",
       "email_provider                0.015341\n",
       "creation_source               0.010089\n",
       "opted_in_to_mailing_list      0.003886\n",
       "enabled_for_marketing_drip    0.002978\n",
       "Name: coef, dtype: float64"
      ]
     },
     "execution_count": 87,
     "metadata": {},
     "output_type": "execute_result"
    }
   ],
   "source": [
    "# Ceofficients indexed by feature\n",
    "feat_import = pd.DataFrame()\n",
    "feat_import[\"coef\"] = rf.feature_importances_\n",
    "feat_import = feat_import.set_index(data.columns)\n",
    "feat_import.coef.nlargest(10)"
   ]
  },
  {
   "cell_type": "code",
   "execution_count": 88,
   "metadata": {},
   "outputs": [
    {
     "data": {
      "image/png": "[encoded data removed]",
      "text/plain": [
       "<Figure size 1000x500 with 1 Axes>"
      ]
     },
     "metadata": {},
     "output_type": "display_data"
    }
   ],
   "source": [
    "# Plot the results\n",
    "plt.figure(figsize=(10,5))\n",
    "(feat_import[\"coef\"]).nlargest(10).plot(kind=\"bar\", x=feat_import.index)\n",
    "plt.title(\"Random Forest Classifier Feature Importance\")\n",
    "plt.ylabel(\"coefficient value\")\n",
    "plt.show()"
   ]
  },
  {
   "cell_type": "markdown",
   "metadata": {},
   "source": [
    "- `RandomForestClassifer` identified `usage_length` as the best indicator of whether or not a a user becomes an adopted user.\n",
    "- We should check ECDF."
   ]
  },
  {
   "cell_type": "code",
   "execution_count": 89,
   "metadata": {},
   "outputs": [],
   "source": [
    "# ECDF function\n",
    "def ecdf(data):\n",
    "    n = len(data)\n",
    "    x = np.sort(data)\n",
    "    y = np.arange(1, n+1) / n\n",
    "    return x, y"
   ]
  },
  {
   "cell_type": "code",
   "execution_count": 90,
   "metadata": {},
   "outputs": [],
   "source": [
    "adopted = feat_df.usage_length.loc[feat_df[\"adopted_user\"] == 1]\n",
    "not_adopted = feat_df.usage_length.loc[feat_df[\"adopted_user\"] == 0]"
   ]
  },
  {
   "cell_type": "code",
   "execution_count": 91,
   "metadata": {},
   "outputs": [
    {
     "data": {
      "image/png": "[encoded data removed]",
      "text/plain": [
       "<Figure size 1000x500 with 1 Axes>"
      ]
     },
     "metadata": {},
     "output_type": "display_data"
    }
   ],
   "source": [
    "# Plotting\n",
    "plt.figure(figsize=(10,5))\n",
    "x_active, y_active = ecdf(adopted)\n",
    "x_inactive, y_inactive = ecdf(not_adopted)\n",
    "plt.plot(x_active, y_active, marker=\".\", linestyle=\"none\")\n",
    "plt.plot(x_inactive, y_inactive, marker=\".\", linestyle=\"none\")\n",
    "plt.title(\"Length of Usage b/w Adopted and Not Adpoted Users\")\n",
    "plt.xlabel(\"Length of Usage (Seconds)\")\n",
    "plt.ylabel(\"ECDF\")\n",
    "plt.legend([\"adopted\", \"not adopted\"])\n",
    "plt.show()"
   ]
  },
  {
   "cell_type": "markdown",
   "metadata": {},
   "source": [
    "**Inference:**\n",
    "- The maximum time usage of non-adopted users is roughly 2000 seconds or 230 days.\n",
    "- Roughly 60% of the active users have usage above that amount of time."
   ]
  }
 ],
 "metadata": {
  "kernelspec": {
   "display_name": "Python 3 (ipykernel)",
   "language": "python",
   "name": "python3"
  },
  "language_info": {
   "codemirror_mode": {
    "name": "ipython",
    "version": 3
   },
   "file_extension": ".py",
   "mimetype": "text/x-python",
   "name": "python",
   "nbconvert_exporter": "python",
   "pygments_lexer": "ipython3",
   "version": "3.10.11"
  },
  "toc": {
   "base_numbering": 1,
   "nav_menu": {},
   "number_sections": true,
   "sideBar": true,
   "skip_h1_title": true,
   "title_cell": "Table of Contents",
   "title_sidebar": "Contents",
   "toc_cell": false,
   "toc_position": {
    "height": "calc(100% - 180px)",
    "left": "10px",
    "top": "150px",
    "width": "198px"
   },
   "toc_section_display": true,
   "toc_window_display": true
  },
  "varInspector": {
   "cols": {
    "lenName": 16,
    "lenType": 16,
    "lenVar": 40
   },
   "kernels_config": {
    "python": {
     "delete_cmd_postfix": "",
     "delete_cmd_prefix": "del ",
     "library": "var_list.py",
     "varRefreshCmd": "print(var_dic_list())"
    },
    "r": {
     "delete_cmd_postfix": ") ",
     "delete_cmd_prefix": "rm(",
     "library": "var_list.r",
     "varRefreshCmd": "cat(var_dic_list()) "
    }
   },
   "types_to_exclude": [
    "module",
    "function",
    "builtin_function_or_method",
    "instance",
    "_Feature"
   ],
   "window_display": false
  }
 },
 "nbformat": 4,
 "nbformat_minor": 2
}
